{
  "nbformat": 4,
  "nbformat_minor": 0,
  "metadata": {
    "colab": {
      "name": "Day1 .ipynb",
      "provenance": [],
      "collapsed_sections": []
    },
    "kernelspec": {
      "name": "python3",
      "display_name": "Python 3"
    },
    "language_info": {
      "name": "python"
    }
  },
  "cells": [
    {
      "cell_type": "code",
      "metadata": {
        "colab": {
          "base_uri": "https://localhost:8080/"
        },
        "id": "0decjB7_tXjR",
        "outputId": "904c06f6-abf9-417a-bb4a-472b24b8e708"
      },
      "source": [
        "print(\"hello\")"
      ],
      "execution_count": null,
      "outputs": [
        {
          "output_type": "stream",
          "text": [
            "hello\n"
          ],
          "name": "stdout"
        }
      ]
    },
    {
      "cell_type": "code",
      "metadata": {
        "id": "cjNmw0G2tmBC"
      },
      "source": [
        ""
      ],
      "execution_count": null,
      "outputs": []
    },
    {
      "cell_type": "code",
      "metadata": {
        "colab": {
          "base_uri": "https://localhost:8080/"
        },
        "id": "IMBSCsk2QPaK",
        "outputId": "3b0833c7-7218-4e33-d343-8587805f07fc"
      },
      "source": [
        "print(\"Hello\")"
      ],
      "execution_count": null,
      "outputs": [
        {
          "output_type": "stream",
          "text": [
            "Hello\n"
          ],
          "name": "stdout"
        }
      ]
    },
    {
      "cell_type": "code",
      "metadata": {
        "id": "-BZ9KLi7Qdsr"
      },
      "source": [
        "# Our First Project - Calculator "
      ],
      "execution_count": null,
      "outputs": []
    },
    {
      "cell_type": "code",
      "metadata": {
        "id": "dK2yP7E6Rc-c"
      },
      "source": [
        "# Step 1 -> Perfom addition in Python \n",
        "# Step 2 -> store the result in some variable and show the result \n",
        "# Step 3 -> Take user Input for dynamic Addition"
      ],
      "execution_count": null,
      "outputs": []
    },
    {
      "cell_type": "code",
      "metadata": {
        "colab": {
          "base_uri": "https://localhost:8080/"
        },
        "id": "yTlAUNRPR-id",
        "outputId": "1a127384-0839-4e70-eae9-cc0087261dfc"
      },
      "source": [
        "# Step 1 -> \n",
        "\n",
        "20 + 30 "
      ],
      "execution_count": null,
      "outputs": [
        {
          "output_type": "execute_result",
          "data": {
            "text/plain": [
              "50"
            ]
          },
          "metadata": {
            "tags": []
          },
          "execution_count": 10
        }
      ]
    },
    {
      "cell_type": "code",
      "metadata": {
        "id": "0uXuhKDRSNzt"
      },
      "source": [
        "ourSum = 20 + 30"
      ],
      "execution_count": null,
      "outputs": []
    },
    {
      "cell_type": "code",
      "metadata": {
        "colab": {
          "base_uri": "https://localhost:8080/"
        },
        "id": "z1FOUcrVSXbc",
        "outputId": "5ca0f0e4-35b9-4eca-f1e1-469a8f5221e0"
      },
      "source": [
        "ourSum"
      ],
      "execution_count": null,
      "outputs": [
        {
          "output_type": "execute_result",
          "data": {
            "text/plain": [
              "50"
            ]
          },
          "metadata": {
            "tags": []
          },
          "execution_count": 13
        }
      ]
    },
    {
      "cell_type": "code",
      "metadata": {
        "colab": {
          "base_uri": "https://localhost:8080/"
        },
        "id": "haimWFvxSnRl",
        "outputId": "b22f3323-6d59-4502-fdd9-7fabe477d1f7"
      },
      "source": [
        "ourSum"
      ],
      "execution_count": null,
      "outputs": [
        {
          "output_type": "execute_result",
          "data": {
            "text/plain": [
              "50"
            ]
          },
          "metadata": {
            "tags": []
          },
          "execution_count": 14
        }
      ]
    },
    {
      "cell_type": "code",
      "metadata": {
        "colab": {
          "base_uri": "https://localhost:8080/"
        },
        "id": "HDbGKYx3SrRt",
        "outputId": "fed4e738-bc50-4098-db9c-0fd959eb89ac"
      },
      "source": [
        "print(ourSum)"
      ],
      "execution_count": null,
      "outputs": [
        {
          "output_type": "stream",
          "text": [
            "50\n"
          ],
          "name": "stdout"
        }
      ]
    },
    {
      "cell_type": "code",
      "metadata": {
        "colab": {
          "base_uri": "https://localhost:8080/"
        },
        "id": "Ikg3khW-TBds",
        "outputId": "5aceaf79-22c4-47c5-ea3d-c99ece1e16b2"
      },
      "source": [
        "# Step 3 how to take input and convert string to int \n",
        "\n",
        "a = input(\"Enter your first Number \")"
      ],
      "execution_count": null,
      "outputs": [
        {
          "output_type": "stream",
          "text": [
            "Enter your first Number 25\n"
          ],
          "name": "stdout"
        }
      ]
    },
    {
      "cell_type": "code",
      "metadata": {
        "colab": {
          "base_uri": "https://localhost:8080/",
          "height": 35
        },
        "id": "HmxW14NPTsL2",
        "outputId": "a4aeedb4-3ae6-44aa-dab7-1a638e5f676b"
      },
      "source": [
        "a"
      ],
      "execution_count": null,
      "outputs": [
        {
          "output_type": "execute_result",
          "data": {
            "application/vnd.google.colaboratory.intrinsic+json": {
              "type": "string"
            },
            "text/plain": [
              "'25'"
            ]
          },
          "metadata": {
            "tags": []
          },
          "execution_count": 17
        }
      ]
    },
    {
      "cell_type": "code",
      "metadata": {
        "colab": {
          "base_uri": "https://localhost:8080/"
        },
        "id": "9XdRkSAKTwhM",
        "outputId": "0a398d71-3fe2-413a-a228-2d90a390d4f9"
      },
      "source": [
        "type(a)"
      ],
      "execution_count": null,
      "outputs": [
        {
          "output_type": "execute_result",
          "data": {
            "text/plain": [
              "str"
            ]
          },
          "metadata": {
            "tags": []
          },
          "execution_count": 18
        }
      ]
    },
    {
      "cell_type": "code",
      "metadata": {
        "id": "zxEzsZ4EVhO2"
      },
      "source": [
        "# Converting a from string to int \n",
        "\n",
        "a= int(a)"
      ],
      "execution_count": null,
      "outputs": []
    },
    {
      "cell_type": "code",
      "metadata": {
        "colab": {
          "base_uri": "https://localhost:8080/"
        },
        "id": "6WWDffEXVvHk",
        "outputId": "2f75e1f6-e814-40e3-c812-8d5d81ba2a3e"
      },
      "source": [
        "type(a)"
      ],
      "execution_count": null,
      "outputs": [
        {
          "output_type": "execute_result",
          "data": {
            "text/plain": [
              "int"
            ]
          },
          "metadata": {
            "tags": []
          },
          "execution_count": 22
        }
      ]
    },
    {
      "cell_type": "code",
      "metadata": {
        "colab": {
          "base_uri": "https://localhost:8080/"
        },
        "id": "H6gcFwc_VzZs",
        "outputId": "6cba141c-a8ff-4a08-d8a8-ffd59d74ecb4"
      },
      "source": [
        "b = input(\"Enter your second Number\")"
      ],
      "execution_count": null,
      "outputs": [
        {
          "output_type": "stream",
          "text": [
            "Enter your second Number 5\n"
          ],
          "name": "stdout"
        }
      ]
    },
    {
      "cell_type": "code",
      "metadata": {
        "id": "MKHI2AaxV738"
      },
      "source": [
        "b = int(b)"
      ],
      "execution_count": null,
      "outputs": []
    },
    {
      "cell_type": "code",
      "metadata": {
        "colab": {
          "base_uri": "https://localhost:8080/"
        },
        "id": "BfvQjPCIWBL8",
        "outputId": "29a7c1e8-bf2a-41fa-9013-3b4a6fe8cd5c"
      },
      "source": [
        "b"
      ],
      "execution_count": null,
      "outputs": [
        {
          "output_type": "execute_result",
          "data": {
            "text/plain": [
              "5"
            ]
          },
          "metadata": {
            "tags": []
          },
          "execution_count": 28
        }
      ]
    },
    {
      "cell_type": "code",
      "metadata": {
        "id": "ZDEenGl5WE3k"
      },
      "source": [
        "sum1 = a + b"
      ],
      "execution_count": null,
      "outputs": []
    },
    {
      "cell_type": "code",
      "metadata": {
        "colab": {
          "base_uri": "https://localhost:8080/"
        },
        "id": "hYBpYcOHWaxN",
        "outputId": "828a2287-f1ca-4672-967b-eb6b9198fedc"
      },
      "source": [
        "print(\"Your addition is \", sum1)"
      ],
      "execution_count": null,
      "outputs": [
        {
          "output_type": "stream",
          "text": [
            "Your addition is  30\n"
          ],
          "name": "stdout"
        }
      ]
    },
    {
      "cell_type": "code",
      "metadata": {
        "colab": {
          "base_uri": "https://localhost:8080/"
        },
        "id": "aWpojfjzWf1s",
        "outputId": "1d7838a1-e2ef-4813-92be-8877bb3666ab"
      },
      "source": [
        "a = int(input(\"First Number \"))\n",
        "b = int(input(\"Second Number\" ))\n",
        "sum2 = a + b\n",
        "print(\"Our Sum is \", sum2) "
      ],
      "execution_count": 2,
      "outputs": [
        {
          "output_type": "stream",
          "text": [
            "First Number 25\n",
            "Second Number36\n",
            "Our Sum is  61\n"
          ],
          "name": "stdout"
        }
      ]
    },
    {
      "cell_type": "code",
      "metadata": {
        "colab": {
          "base_uri": "https://localhost:8080/"
        },
        "id": "pRIPje6CAfFf",
        "outputId": "bbb1b9b4-b37c-4cdc-e784-9f8bb0c548ef"
      },
      "source": [
        "#Assignment day 1\n",
        "# -> Perfom subtraction in Python \n",
        "c= int(input(\"First Number \"))\n",
        "d= int (input(\"Second Number \"))\n",
        "Diff1 = c - d\n",
        "print(\"our difference is\",Diff1)"
      ],
      "execution_count": 3,
      "outputs": [
        {
          "output_type": "stream",
          "text": [
            "First Number 60\n",
            "Second Number 25\n",
            "our difference is 35\n"
          ],
          "name": "stdout"
        }
      ]
    },
    {
      "cell_type": "code",
      "metadata": {
        "colab": {
          "base_uri": "https://localhost:8080/"
        },
        "id": "U32X28mNBPYq",
        "outputId": "f2a3f45e-94d4-44a0-d201-a0cd459b6994"
      },
      "source": [
        "# -> Perfom multiplication in Python \n",
        "x= int(input(\"First Number \"))\n",
        "y= int (input(\"Second Number \"))\n",
        "prod1 = x * y\n",
        "print(\"our product is\",prod1)"
      ],
      "execution_count": 5,
      "outputs": [
        {
          "output_type": "stream",
          "text": [
            "First Number 25\n",
            "Second Number 25\n",
            "our product is 625\n"
          ],
          "name": "stdout"
        }
      ]
    },
    {
      "cell_type": "code",
      "metadata": {
        "colab": {
          "base_uri": "https://localhost:8080/"
        },
        "id": "B6O4n0HGCNDy",
        "outputId": "95e4a6d0-5697-4257-d7cf-890ffd90533f"
      },
      "source": [
        "# -> Perfom division in Python \n",
        "num1= int(input(\"First Number \"))\n",
        "num2= int (input(\"Second Number \"))\n",
        "num3 = num1/num2\n",
        "print(\"our division is \",num3)"
      ],
      "execution_count": 8,
      "outputs": [
        {
          "output_type": "stream",
          "text": [
            "First Number 625\n",
            "Second Number 5\n",
            "our division is  125.0\n"
          ],
          "name": "stdout"
        }
      ]
    },
    {
      "cell_type": "code",
      "metadata": {
        "id": "IHjR3azZCm2_"
      },
      "source": [
        ""
      ],
      "execution_count": null,
      "outputs": []
    }
  ]
}